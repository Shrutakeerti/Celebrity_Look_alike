import os
import cv2
import numpy as np
from zipfile import ZipFile, BadZipFile   # Import BadZipFile exception

# Define paths to CelebA dataset
zip_file_path = '/content/archive (13).zip'
image_dir_inside_zip = 'img_align_celeba'
output_dir = 'path/to/preprocessed_images'

# Create output directory for preprocessed images
os.makedirs(output_dir, exist_ok=True)

# Function to preprocess images
def preprocess_images(zip_file_path, image_dir_inside_zip, output_dir, target_size=(128, 128)):
    try:
        # Open the ZIP file
        with ZipFile(zip_file_path, 'r') as zip_ref:
            # Extract the contents to a temporary directory
            zip_ref.extractall('/content/temp_extracted')

        # Define the directory where images were extracted
        extracted_image_dir = '/content/temp_extracted/' + image_dir_inside_zip

        # Loop through all images in the directory
        for filename in os.listdir(extracted_image_dir):
            if filename.endswith('.jpg'):
                # Load image
                img_path = os.path.join(extracted_image_dir, filename)
                img = cv2.imread(img_path)

                # Resize image to target size
                img_resized = cv2.resize(img, target_size)

                # Convert image to RGB format
                img_rgb = cv2.cvtColor(img_resized, cv2.COLOR_BGR2RGB)

                # Normalize pixel values to range [0, 1]
                img_normalized = img_rgb / 255.0

                # Save preprocessed image
                output_path = os.path.join(output_dir, filename)
                cv2.imwrite(output_path, img_normalized)

                print(f'Preprocessed image saved: {output_path}')

        # Remove temporary directory
        os.rmdir('/content/temp_extracted')
    except BadZipFile:
        print("Error: File is not a valid ZIP file.")

# Preprocess images
preprocess_images(zip_file_path, image_dir_inside_zip, output_dir)

     
